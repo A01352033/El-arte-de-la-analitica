{
  "nbformat": 4,
  "nbformat_minor": 0,
  "metadata": {
    "colab": {
      "provenance": []
    },
    "kernelspec": {
      "name": "python3",
      "display_name": "Python 3"
    },
    "language_info": {
      "name": "python"
    }
  },
  "cells": [
    {
      "cell_type": "markdown",
      "source": [
        "# Actividad - Regresión Lineal"
      ],
      "metadata": {
        "id": "Zlev5tghCy2G"
      }
    },
    {
      "cell_type": "markdown",
      "source": [
        "* **Nombre:** Manuel Villalpando Linares\n",
        "* **Matrícula:** A01352033"
      ],
      "metadata": {
        "id": "UzLPBnd5C4xy"
      }
    },
    {
      "cell_type": "markdown",
      "source": [
        "**Entregar:** Archivo PDF de la actividad, así como el archivo .ipynb en tu repositorio. <br>\n",
        "**Nota:** Recuerda habrá una penalización de **50** puntos si la actividad fue entregada fuera de la fecha límite. <br>\n",
        "**Importante**:\n",
        "  * Colocar nombres de ejes en gráficas.\n",
        "  * Títulos en las gráficas.\n",
        "  * Contestar cada pregunta."
      ],
      "metadata": {
        "id": "CIeakL6CDCTC"
      }
    },
    {
      "cell_type": "markdown",
      "source": [
        "Carga el conjunto de datos `presion.csv` (se encuentra en el repositorio de la clase) y realiza un análisis estadístico de las variables."
      ],
      "metadata": {
        "id": "tU8Hn1jdDNTc"
      }
    },
    {
      "cell_type": "code",
      "source": [
        "# Carga las librerías necesarias.\n",
        "import pandas as pd\n",
        "import matplotlib.pyplot as plt\n",
        "import seaborn as sns; sns.set()\n",
        "import numpy as np\n",
        "from sklearn.linear_model import LinearRegression"
      ],
      "metadata": {
        "id": "7ehdNB9iDBi7"
      },
      "execution_count": 1,
      "outputs": []
    },
    {
      "cell_type": "code",
      "source": [
        "# Carga el conjunto de datos al ambiente de Google Colab y muestra los primeros\n",
        "# 6 renglones.\n",
        "df = pd.read_csv('presion.csv')\n",
        "df.head(6)"
      ],
      "metadata": {
        "id": "vvPwkAtkDasd",
        "colab": {
          "base_uri": "https://localhost:8080/",
          "height": 237
        },
        "outputId": "16684c91-f9b9-4b70-a33b-0515165ad55e"
      },
      "execution_count": 2,
      "outputs": [
        {
          "output_type": "execute_result",
          "data": {
            "text/plain": [
              "   Age  Average of ap_hi  Average of ap_lo\n",
              "0   30        112.500000         72.500000\n",
              "1   39        119.029340         88.229829\n",
              "2   40        119.789630         85.858889\n",
              "3   41        121.490862         90.344648\n",
              "4   42        120.163872         89.887957\n",
              "5   43        141.294203         93.388406"
            ],
            "text/html": [
              "\n",
              "  <div id=\"df-b8727523-72d6-41bd-9f4a-f5a56017f2c7\">\n",
              "    <div class=\"colab-df-container\">\n",
              "      <div>\n",
              "<style scoped>\n",
              "    .dataframe tbody tr th:only-of-type {\n",
              "        vertical-align: middle;\n",
              "    }\n",
              "\n",
              "    .dataframe tbody tr th {\n",
              "        vertical-align: top;\n",
              "    }\n",
              "\n",
              "    .dataframe thead th {\n",
              "        text-align: right;\n",
              "    }\n",
              "</style>\n",
              "<table border=\"1\" class=\"dataframe\">\n",
              "  <thead>\n",
              "    <tr style=\"text-align: right;\">\n",
              "      <th></th>\n",
              "      <th>Age</th>\n",
              "      <th>Average of ap_hi</th>\n",
              "      <th>Average of ap_lo</th>\n",
              "    </tr>\n",
              "  </thead>\n",
              "  <tbody>\n",
              "    <tr>\n",
              "      <th>0</th>\n",
              "      <td>30</td>\n",
              "      <td>112.500000</td>\n",
              "      <td>72.500000</td>\n",
              "    </tr>\n",
              "    <tr>\n",
              "      <th>1</th>\n",
              "      <td>39</td>\n",
              "      <td>119.029340</td>\n",
              "      <td>88.229829</td>\n",
              "    </tr>\n",
              "    <tr>\n",
              "      <th>2</th>\n",
              "      <td>40</td>\n",
              "      <td>119.789630</td>\n",
              "      <td>85.858889</td>\n",
              "    </tr>\n",
              "    <tr>\n",
              "      <th>3</th>\n",
              "      <td>41</td>\n",
              "      <td>121.490862</td>\n",
              "      <td>90.344648</td>\n",
              "    </tr>\n",
              "    <tr>\n",
              "      <th>4</th>\n",
              "      <td>42</td>\n",
              "      <td>120.163872</td>\n",
              "      <td>89.887957</td>\n",
              "    </tr>\n",
              "    <tr>\n",
              "      <th>5</th>\n",
              "      <td>43</td>\n",
              "      <td>141.294203</td>\n",
              "      <td>93.388406</td>\n",
              "    </tr>\n",
              "  </tbody>\n",
              "</table>\n",
              "</div>\n",
              "      <button class=\"colab-df-convert\" onclick=\"convertToInteractive('df-b8727523-72d6-41bd-9f4a-f5a56017f2c7')\"\n",
              "              title=\"Convert this dataframe to an interactive table.\"\n",
              "              style=\"display:none;\">\n",
              "        \n",
              "  <svg xmlns=\"http://www.w3.org/2000/svg\" height=\"24px\"viewBox=\"0 0 24 24\"\n",
              "       width=\"24px\">\n",
              "    <path d=\"M0 0h24v24H0V0z\" fill=\"none\"/>\n",
              "    <path d=\"M18.56 5.44l.94 2.06.94-2.06 2.06-.94-2.06-.94-.94-2.06-.94 2.06-2.06.94zm-11 1L8.5 8.5l.94-2.06 2.06-.94-2.06-.94L8.5 2.5l-.94 2.06-2.06.94zm10 10l.94 2.06.94-2.06 2.06-.94-2.06-.94-.94-2.06-.94 2.06-2.06.94z\"/><path d=\"M17.41 7.96l-1.37-1.37c-.4-.4-.92-.59-1.43-.59-.52 0-1.04.2-1.43.59L10.3 9.45l-7.72 7.72c-.78.78-.78 2.05 0 2.83L4 21.41c.39.39.9.59 1.41.59.51 0 1.02-.2 1.41-.59l7.78-7.78 2.81-2.81c.8-.78.8-2.07 0-2.86zM5.41 20L4 18.59l7.72-7.72 1.47 1.35L5.41 20z\"/>\n",
              "  </svg>\n",
              "      </button>\n",
              "      \n",
              "  <style>\n",
              "    .colab-df-container {\n",
              "      display:flex;\n",
              "      flex-wrap:wrap;\n",
              "      gap: 12px;\n",
              "    }\n",
              "\n",
              "    .colab-df-convert {\n",
              "      background-color: #E8F0FE;\n",
              "      border: none;\n",
              "      border-radius: 50%;\n",
              "      cursor: pointer;\n",
              "      display: none;\n",
              "      fill: #1967D2;\n",
              "      height: 32px;\n",
              "      padding: 0 0 0 0;\n",
              "      width: 32px;\n",
              "    }\n",
              "\n",
              "    .colab-df-convert:hover {\n",
              "      background-color: #E2EBFA;\n",
              "      box-shadow: 0px 1px 2px rgba(60, 64, 67, 0.3), 0px 1px 3px 1px rgba(60, 64, 67, 0.15);\n",
              "      fill: #174EA6;\n",
              "    }\n",
              "\n",
              "    [theme=dark] .colab-df-convert {\n",
              "      background-color: #3B4455;\n",
              "      fill: #D2E3FC;\n",
              "    }\n",
              "\n",
              "    [theme=dark] .colab-df-convert:hover {\n",
              "      background-color: #434B5C;\n",
              "      box-shadow: 0px 1px 3px 1px rgba(0, 0, 0, 0.15);\n",
              "      filter: drop-shadow(0px 1px 2px rgba(0, 0, 0, 0.3));\n",
              "      fill: #FFFFFF;\n",
              "    }\n",
              "  </style>\n",
              "\n",
              "      <script>\n",
              "        const buttonEl =\n",
              "          document.querySelector('#df-b8727523-72d6-41bd-9f4a-f5a56017f2c7 button.colab-df-convert');\n",
              "        buttonEl.style.display =\n",
              "          google.colab.kernel.accessAllowed ? 'block' : 'none';\n",
              "\n",
              "        async function convertToInteractive(key) {\n",
              "          const element = document.querySelector('#df-b8727523-72d6-41bd-9f4a-f5a56017f2c7');\n",
              "          const dataTable =\n",
              "            await google.colab.kernel.invokeFunction('convertToInteractive',\n",
              "                                                     [key], {});\n",
              "          if (!dataTable) return;\n",
              "\n",
              "          const docLinkHtml = 'Like what you see? Visit the ' +\n",
              "            '<a target=\"_blank\" href=https://colab.research.google.com/notebooks/data_table.ipynb>data table notebook</a>'\n",
              "            + ' to learn more about interactive tables.';\n",
              "          element.innerHTML = '';\n",
              "          dataTable['output_type'] = 'display_data';\n",
              "          await google.colab.output.renderOutput(dataTable, element);\n",
              "          const docLink = document.createElement('div');\n",
              "          docLink.innerHTML = docLinkHtml;\n",
              "          element.appendChild(docLink);\n",
              "        }\n",
              "      </script>\n",
              "    </div>\n",
              "  </div>\n",
              "  "
            ]
          },
          "metadata": {},
          "execution_count": 2
        }
      ]
    },
    {
      "cell_type": "markdown",
      "source": [
        "El conjunto de datos contiene información demográfica sobre los asegurados en una compañía de seguros:\n",
        "* **Age**: Edad de la persona.\n",
        "* **Average of ap_hi**: Promedio de presión alta.\n",
        "* **Average of ap_lo**: Promedio de presión baja."
      ],
      "metadata": {
        "id": "HjeUwH4QE7QZ"
      }
    },
    {
      "cell_type": "code",
      "source": [
        "# Grafica la información de la edad y presión alta\n",
        "x = df['Age']\n",
        "y = df['Average of ap_hi']\n",
        "plt.scatter(x, y);"
      ],
      "metadata": {
        "id": "5dD7I6aKDej4",
        "colab": {
          "base_uri": "https://localhost:8080/",
          "height": 268
        },
        "outputId": "e4f5769b-aee4-4289-9df1-8fcee5fd923a"
      },
      "execution_count": 3,
      "outputs": [
        {
          "output_type": "display_data",
          "data": {
            "text/plain": [
              "<Figure size 432x288 with 1 Axes>"
            ],
            "image/png": "[encoded data removed]"
          },
          "metadata": {}
        }
      ]
    },
    {
      "cell_type": "code",
      "source": [
        "# Grafica la información de la edad y presión baja\n",
        "x2 = df['Age']\n",
        "y2 = df['Average of ap_lo']\n",
        "plt.scatter(x2, y2);"
      ],
      "metadata": {
        "id": "pZUxcJb9EEQn",
        "colab": {
          "base_uri": "https://localhost:8080/",
          "height": 269
        },
        "outputId": "6a867a0b-259e-4769-d375-474d3a44ec57"
      },
      "execution_count": 4,
      "outputs": [
        {
          "output_type": "display_data",
          "data": {
            "text/plain": [
              "<Figure size 432x288 with 1 Axes>"
            ],
            "image/png": "[encoded data removed]"
          },
          "metadata": {}
        }
      ]
    },
    {
      "cell_type": "markdown",
      "source": [
        "Genera una regresión líneal para obtener una aproximación de la ecuación \n",
        "$$ y = ax + b $$\n",
        "donde $ a $ se conoce comúnmente como **pendiente**, y $ b $ se conoce comúnmente como **intersección**, tanto para presión alta como la presión baja."
      ],
      "metadata": {
        "id": "xmE4DAgV1-cV"
      }
    },
    {
      "cell_type": "code",
      "source": [
        "# ¿Cuál es el valor de a y cuál es el valor de b para la presión alta?\n",
        "alta = LinearRegression(fit_intercept=True)\n",
        "alta.fit(x[:, np.newaxis], y)\n",
        "\n",
        "print(\"Presion alta de a:\", alta.coef_[0])\n",
        "print(\"Presion alta de b:\", alta.intercept_)"
      ],
      "metadata": {
        "id": "ZpWI2bbM2VhT",
        "colab": {
          "base_uri": "https://localhost:8080/"
        },
        "outputId": "7585515b-c771-4dae-d5d5-f6bbc2969de5"
      },
      "execution_count": 6,
      "outputs": [
        {
          "output_type": "stream",
          "name": "stdout",
          "text": [
            "Presion alta de a: 0.47769702977669154\n",
            "Presion alta de b: 103.3969740964366\n"
          ]
        },
        {
          "output_type": "stream",
          "name": "stderr",
          "text": [
            "<ipython-input-6-a3787ee28cfd>:3: FutureWarning: Support for multi-dimensional indexing (e.g. `obj[:, None]`) is deprecated and will be removed in a future version.  Convert to a numpy array before indexing instead.\n",
            "  alta.fit(x[:, np.newaxis], y)\n"
          ]
        }
      ]
    },
    {
      "cell_type": "code",
      "source": [
        "# ¿Cuál es el valor de a y cuál es el valor de b para la presión baja?\n",
        "baja = LinearRegression(fit_intercept=True)\n",
        "baja.fit(x2[:, np.newaxis], y2)\n",
        "\n",
        "print(\"Presion baja de a:\", baja.coef_[0])\n",
        "print(\"Presion baja de b:\", baja.intercept_)"
      ],
      "metadata": {
        "id": "zfAovcIj2aDq",
        "colab": {
          "base_uri": "https://localhost:8080/"
        },
        "outputId": "e46182f6-ceac-4c67-ff35-9c9e14311e30"
      },
      "execution_count": 7,
      "outputs": [
        {
          "output_type": "stream",
          "name": "stdout",
          "text": [
            "Presion baja de a: 0.6089810580238237\n",
            "Presion baja de b: 63.726200409422745\n"
          ]
        },
        {
          "output_type": "stream",
          "name": "stderr",
          "text": [
            "<ipython-input-7-78fc685f1979>:3: FutureWarning: Support for multi-dimensional indexing (e.g. `obj[:, None]`) is deprecated and will be removed in a future version.  Convert to a numpy array before indexing instead.\n",
            "  baja.fit(x2[:, np.newaxis], y2)\n"
          ]
        }
      ]
    },
    {
      "cell_type": "markdown",
      "source": [
        "Gráfica los datos reales contra los obtenidos con el modelo. Se debe visualizar los datos reales (azúl), recta del modelo (negro)y distancias entre ambos. (verde) "
      ],
      "metadata": {
        "id": "BHcPbc-62cSv"
      }
    },
    {
      "cell_type": "code",
      "source": [
        "# Presión alta\n",
        "reglinealx = np.linspace(0, 70, 1000)\n",
        "reglinealy = alta.predict(reglinealx[:, np.newaxis])\n",
        "\n",
        "plt.scatter(x, y, color=\"blue\")\n",
        "plt.plot(reglinealx, reglinealy, color=\"black\");\n",
        "plt.plot(x, y, '*')\n",
        "plt.plot(np.vstack([x,x]), np.vstack([y, alta.predict(x[:, np.newaxis])]), color=\"green\");"
      ],
      "metadata": {
        "id": "QcsqHm1iFmFX",
        "colab": {
          "base_uri": "https://localhost:8080/",
          "height": 323
        },
        "outputId": "ec74a395-a22e-4ef7-927f-26dbcce8d48e"
      },
      "execution_count": 13,
      "outputs": [
        {
          "output_type": "stream",
          "name": "stderr",
          "text": [
            "<ipython-input-13-f1549f9ec777>:8: FutureWarning: Support for multi-dimensional indexing (e.g. `obj[:, None]`) is deprecated and will be removed in a future version.  Convert to a numpy array before indexing instead.\n",
            "  plt.plot(np.vstack([x,x]), np.vstack([y, alta.predict(x[:, np.newaxis])]), color=\"green\");\n"
          ]
        },
        {
          "output_type": "display_data",
          "data": {
            "text/plain": [
              "<Figure size 432x288 with 1 Axes>"
            ],
            "image/png": "[encoded data removed]"
          },
          "metadata": {}
        }
      ]
    },
    {
      "cell_type": "code",
      "source": [
        "# Presión baja\n",
        "reglinealx2 = np.linspace(0, 70, 1000)\n",
        "reglinealy2 = baja.predict(reglinealx2[:, np.newaxis])\n",
        "\n",
        "plt.scatter(x2, y2, color=\"blue\")\n",
        "plt.plot(reglinealx2, reglinealy2, color=\"black\");\n",
        "plt.plot(x2, y2, '*')\n",
        "plt.plot(np.vstack([x2,x2]), np.vstack([y2, baja.predict(x2[:, np.newaxis])]), color=\"green\");"
      ],
      "metadata": {
        "id": "oHueQgzsEm5V",
        "colab": {
          "base_uri": "https://localhost:8080/",
          "height": 323
        },
        "outputId": "f9e85954-3c53-4432-9018-b5a37afacdbf"
      },
      "execution_count": 14,
      "outputs": [
        {
          "output_type": "stream",
          "name": "stderr",
          "text": [
            "<ipython-input-14-d002f076ef88>:8: FutureWarning: Support for multi-dimensional indexing (e.g. `obj[:, None]`) is deprecated and will be removed in a future version.  Convert to a numpy array before indexing instead.\n",
            "  plt.plot(np.vstack([x2,x2]), np.vstack([y2, baja.predict(x2[:, np.newaxis])]), color=\"green\");\n"
          ]
        },
        {
          "output_type": "display_data",
          "data": {
            "text/plain": [
              "<Figure size 432x288 with 1 Axes>"
            ],
            "image/png": "[encoded data removed]"
          },
          "metadata": {}
        }
      ]
    },
    {
      "cell_type": "markdown",
      "source": [
        "¿Cual es la presión arterial atal y baja para una persona de cierta edad? Genera dos funciones que calculen los anterior."
      ],
      "metadata": {
        "id": "g864g0TD20l-"
      }
    },
    {
      "cell_type": "code",
      "source": [
        "def pressure_low(age):\n",
        "  return baja.predict([[age]])\n",
        "\n",
        "query_age= 76\n",
        "pressure_low(query_age)"
      ],
      "metadata": {
        "id": "lJs6pUN0FvUn",
        "colab": {
          "base_uri": "https://localhost:8080/"
        },
        "outputId": "c282d18b-8401-4bb5-f312-ed5560e83af8"
      },
      "execution_count": 15,
      "outputs": [
        {
          "output_type": "execute_result",
          "data": {
            "text/plain": [
              "array([110.00876082])"
            ]
          },
          "metadata": {},
          "execution_count": 15
        }
      ]
    },
    {
      "cell_type": "code",
      "source": [
        "def pressure_high(age):\n",
        "  return alta.predict([[age]])\n",
        "  return \n",
        "\n",
        "query_age= 76\n",
        "pressure_high(query_age)"
      ],
      "metadata": {
        "id": "N4ZCiN343Nyp",
        "colab": {
          "base_uri": "https://localhost:8080/"
        },
        "outputId": "e45c4c61-1a59-4eef-aaea-b263f0b6ac90"
      },
      "execution_count": 16,
      "outputs": [
        {
          "output_type": "execute_result",
          "data": {
            "text/plain": [
              "array([139.70194836])"
            ]
          },
          "metadata": {},
          "execution_count": 16
        }
      ]
    }
  ]
}
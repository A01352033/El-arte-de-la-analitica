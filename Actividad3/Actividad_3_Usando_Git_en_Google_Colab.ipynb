{
  "nbformat": 4,
  "nbformat_minor": 0,
  "metadata": {
    "colab": {
      "provenance": []
    },
    "kernelspec": {
      "name": "python3",
      "display_name": "Python 3"
    },
    "language_info": {
      "name": "python"
    }
  },
  "cells": [
    {
      "cell_type": "code",
      "execution_count": 1,
      "metadata": {
        "colab": {
          "base_uri": "https://localhost:8080/"
        },
        "id": "EkyLD2PgLSoB",
        "outputId": "5b67e57a-faa9-4b7f-b784-291ce0e08119"
      },
      "outputs": [
        {
          "output_type": "stream",
          "name": "stdout",
          "text": [
            "¡Hola mundo\n"
          ]
        }
      ],
      "source": [
        "# Esta una celda de código\n",
        "print(\"¡Hola mundo\")"
      ]
    },
    {
      "cell_type": "code",
      "source": [
        "#Montar nuestro Google Drive en el entorno de Google Colab\n",
        "from google.colab import drive\n",
        "drive.mount('/gdrive')"
      ],
      "metadata": {
        "colab": {
          "base_uri": "https://localhost:8080/"
        },
        "id": "RDnPyQJuLW1b",
        "outputId": "e864c3ff-acaf-4a43-ac0a-be19baa24fd3"
      },
      "execution_count": 2,
      "outputs": [
        {
          "output_type": "stream",
          "name": "stdout",
          "text": [
            "Mounted at /gdrive\n"
          ]
        }
      ]
    },
    {
      "cell_type": "code",
      "source": [
        "%pwd"
      ],
      "metadata": {
        "colab": {
          "base_uri": "https://localhost:8080/",
          "height": 36
        },
        "id": "y-gcZmRULcbX",
        "outputId": "ffd3f3a4-7eab-43cb-b5fd-c4ce469d96b1"
      },
      "execution_count": 3,
      "outputs": [
        {
          "output_type": "execute_result",
          "data": {
            "text/plain": [
              "'/content'"
            ],
            "application/vnd.google.colaboratory.intrinsic+json": {
              "type": "string"
            }
          },
          "metadata": {},
          "execution_count": 3
        }
      ]
    },
    {
      "cell_type": "code",
      "source": [
        "%ls"
      ],
      "metadata": {
        "colab": {
          "base_uri": "https://localhost:8080/"
        },
        "id": "zHHnm9csLhWu",
        "outputId": "48b12ed0-7a86-4e77-c60c-aa64804b75ea"
      },
      "execution_count": 4,
      "outputs": [
        {
          "output_type": "stream",
          "name": "stdout",
          "text": [
            "\u001b[0m\u001b[01;34msample_data\u001b[0m/\n"
          ]
        }
      ]
    },
    {
      "cell_type": "code",
      "source": [
        "%cd /gdrive/MyDrive"
      ],
      "metadata": {
        "colab": {
          "base_uri": "https://localhost:8080/"
        },
        "id": "vq8vbUbmLlFL",
        "outputId": "e0f48a94-1418-4f3c-e17d-210eb29a6f7e"
      },
      "execution_count": 5,
      "outputs": [
        {
          "output_type": "stream",
          "name": "stdout",
          "text": [
            "/gdrive/MyDrive\n"
          ]
        }
      ]
    },
    {
      "cell_type": "code",
      "source": [
        "%ls"
      ],
      "metadata": {
        "colab": {
          "base_uri": "https://localhost:8080/"
        },
        "id": "5xTxY8qkLn6S",
        "outputId": "fe510bbc-d73f-44a2-ffbe-eb6227331a69"
      },
      "execution_count": 6,
      "outputs": [
        {
          "output_type": "stream",
          "name": "stdout",
          "text": [
            " 1957.gdoc\n",
            " \u001b[0m\u001b[01;34mA01352033\u001b[0m/\n",
            " A01352033.jpg\n",
            "\u001b[01;34m'A01352033-Manuel Villalpando Linares'\u001b[0m/\n",
            "\u001b[01;34m'A01352033 VACIO'\u001b[0m/\n",
            "'Act argumentativa - Gráfico de líneas 1.gsheet'\n",
            " Act_Colab_Semana2.pdf\n",
            "'Activ_Eje 1_El día que murió mesozoico_hhmi_bioInter_Estudiante_9jul18 .gdoc'\n",
            "'Activ_Eje 1_El día que murió mesozoico_hhmi_bioInter_Estudiante_9jul18 .pdf'\n",
            " Actividad_4.drawio\n",
            " Actividad.gdoc\n",
            " Actividad.pdf\n",
            " \u001b[01;34mÁrbol\u001b[0m/\n",
            "'Asincrona tutoreo.gdoc'\n",
            " Auto-Biography.docx\n",
            " Auto-Biography.gdoc\n",
            "\u001b[01;34m'Auto-Biography Manuel Villalpando Linares A01352033'\u001b[0m/\n",
            " \u001b[01;34mBackup\u001b[0m/\n",
            " \u001b[01;34mBeca\u001b[0m/\n",
            " \u001b[01;34mBiología\u001b[0m/\n",
            " \u001b[01;34mBootcamp\u001b[0m/\n",
            "' BOOTCAMP SAMM.gslides'\n",
            " \u001b[01;34mCálculo2\u001b[0m/\n",
            "'CamScanner 09-08-2020 08.49.10.pdf'\n",
            " \u001b[01;34mCanto\u001b[0m/\n",
            "\u001b[01;34m'Casona qro'\u001b[0m/\n",
            "'Chapters 16 a 20.gdoc'\n",
            " Clases.drawio\n",
            "\u001b[01;34m'Colab Notebooks'\u001b[0m/\n",
            "\u001b[01;34m'Comic Historia'\u001b[0m/\n",
            "'Copia de A01352033 - Proyecto eje final.docx'\n",
            "'Copia de Practica 1. Disoluciones A01352020 (1).docx'\n",
            "'Copia de Practica 1. Disoluciones A01352020 (1).pdf'\n",
            "'Copia de Practica 1. Disoluciones A01352020.docx'\n",
            "'Copia de Practica 1. Disoluciones A01352020.pdf'\n",
            "'Copia de Rúbrica Cosplay (1) .xlsx'\n",
            "'Copy of Activ_Eje 1_El día que murió mesozoico_hhmi_bioInter_Estudiante_9jul18(2).docx'\n",
            "'Copy of Fotos .pdf'\n",
            " credencial.pdf\n",
            "'Derivando palabras.pdf'\n",
            "'Design (1).pdf'\n",
            " Design2.pdf\n",
            " Design.pdf\n",
            "'Dibujo sin título.gdraw'\n",
            "'Documento sin título (1).gdoc'\n",
            "'Documento sin título (1).pdf'\n",
            "'Documento sin título (2).gdoc'\n",
            "'Documento sin título (2).pdf'\n",
            "'Documento sin título (3).gdoc'\n",
            "'Documento sin título (3).pdf'\n",
            "'Documento sin título.gdoc'\n",
            "'Documento sin título.pdf'\n",
            "'Eje semestre 1.pdf'\n",
            "'Eje TICS.gslides'\n",
            "'Emociones negativas y positivas.pdf'\n",
            "'En blanco.pdf'\n",
            " \u001b[01;34mEnglish\u001b[0m/\n",
            "'Entretenimiento de Historia.gslides'\n",
            "\u001b[01;34m'Equipo #1 (Diseño digital)'\u001b[0m/\n",
            " \u001b[01;34mEspañol\u001b[0m/\n",
            " Español.docx\n",
            "'Excel de mate1..gsheet'\n",
            "'farenheit 451.pdf'\n",
            " feik.gdoc\n",
            " \u001b[01;34mFilosofía\u001b[0m/\n",
            " \u001b[01;34mFísica\u001b[0m/\n",
            "\u001b[01;34m'Geek out'\u001b[0m/\n",
            "'GH42380-0001352038-Certificado GM.pdf'\n",
            " Guanajuato.jpg\n",
            " \u001b[01;34mHistoria\u001b[0m/\n",
            "'Hoja de cálculo sin título.gsheet'\n",
            "'horario xdxxd.pdf'\n",
            " IMG_0695.mp4\n",
            " IMG_0696.mp4\n",
            " IMG_1379.JPG\n",
            " IMG_1478.PNG\n",
            " IMG_1568.PNG\n",
            " IMG_20190129_211957675.jpg\n",
            " IMG_20220503_191427.jpg\n",
            " \u001b[01;34mImprimir\u001b[0m/\n",
            " \u001b[01;34mIngeniería\u001b[0m/\n",
            "' Key Activity.gdoc'\n",
            "'LINEA DEL TIEMPO 1908 A 1917.gslides'\n",
            " Manuel.pdf\n",
            "\"Manuel's voice thread.mp4\"\n",
            "'Manuel Villalpando Linares- A01352033 PrepaTec Ira.mp4'\n",
            " \u001b[01;34mMate\u001b[0m/\n",
            " \u001b[01;34mmio\u001b[0m/\n",
            " Mitos1.pdf\n",
            " Mitos.pdf\n",
            " \u001b[01;34mNegocios\u001b[0m/\n",
            " P8.5.32D-Carta-autorización-imagen-voz-1.gdoc\n",
            " P8.5.32D-Carta-autorización-imagen-voz-1.pdf\n",
            "'Pago Carneros.jpg'\n",
            " papás.pdf\n",
            "'past and present.docx'\n",
            " pene.jpg\n",
            "\u001b[01;34m'Perspectiva del mundo actual'\u001b[0m/\n",
            "\u001b[01;34m'Perspectivas del mundo actual'\u001b[0m/\n",
            "'Plazuelas y peralta (1).docx'\n",
            "'Plazuelas y peralta.docx'\n",
            "'Please, please, people.gdoc'\n",
            "'Plenaria Caso 5.pdf'\n",
            "'Preguntas detonantes para la construcción del Plan de Vida.pages'\n",
            "\u001b[01;34m'Prepa TEC 6to'\u001b[0m/\n",
            "'Presentación sin título.gslides'\n",
            " \u001b[01;34mQuímica\u001b[0m/\n",
            "'Referencias .gdoc'\n",
            "\u001b[01;34m'Retos del mexico actual'\u001b[0m/\n",
            "'situación problema .pdf'\n",
            "'Solicitud de beca editable (1).gdoc'\n",
            "'Solicitud de beca editable.gdoc'\n",
            "'Sondeo Vasos artesanales (respuestas).gsheet'\n",
            " \u001b[01;34mTics\u001b[0m/\n",
            "\u001b[01;34m'Toma de decisiones'\u001b[0m/\n",
            "'Tutoreo actividad.gdoc'\n",
            "\u001b[01;34m'Tutoreo y Bien estar integral I'\u001b[0m/\n",
            " \u001b[01;34mUNI\u001b[0m/\n",
            " VILM030315HGTLNNA1.pdf\n",
            "'WHAT MAKES ME, ME.gdoc'\n",
            " \u001b[01;34mYee\u001b[0m/\n"
          ]
        }
      ]
    },
    {
      "cell_type": "code",
      "source": [
        "%cd UNI"
      ],
      "metadata": {
        "colab": {
          "base_uri": "https://localhost:8080/"
        },
        "id": "7vsAu3FALvk3",
        "outputId": "4af38a80-a4da-4b27-fd7b-55c1dab68655"
      },
      "execution_count": 7,
      "outputs": [
        {
          "output_type": "stream",
          "name": "stdout",
          "text": [
            "/gdrive/MyDrive/UNI\n"
          ]
        }
      ]
    },
    {
      "cell_type": "code",
      "source": [
        "%ls"
      ],
      "metadata": {
        "colab": {
          "base_uri": "https://localhost:8080/"
        },
        "id": "LrPAS822L63l",
        "outputId": "cd0f182a-f2a3-46dc-d7fe-008177241c7a"
      },
      "execution_count": 9,
      "outputs": [
        {
          "output_type": "stream",
          "name": "stdout",
          "text": [
            "\u001b[0m\u001b[01;34m'1 6'\u001b[0m/\n",
            "\u001b[01;34m'2do Semestre'\u001b[0m/\n",
            "\u001b[01;34m'Aplicación de las leyes de conservación en sistemas ingenieriles'\u001b[0m/\n",
            "'Carta de registro y participación de estudiantes en semanas TEC de Inducción al SS.docx'\n",
            "'CONVOCATORIA ROBOT MINISUMO.pdf'\n",
            "\u001b[01;34m'Fundamentación de la estructura y transformación de la materia '\u001b[0m/\n",
            "\u001b[01;34m'Fundamentos de la Ingeniería y ciencias'\u001b[0m/\n",
            "\u001b[01;34m'High potential leaders program'\u001b[0m/\n",
            "'Horario periodo 1 6.gdoc'\n",
            "'Horario periodo 2 6.gdoc'\n",
            "'Horario periodo 3 6.gdoc'\n",
            " \u001b[01;34mHPLP\u001b[0m/\n",
            " \u001b[01;34mICT\u001b[0m/\n",
            "\u001b[01;34m'Matemáticas y ciencia de datos para la toma de decisiones (Gpo 800)'\u001b[0m/\n",
            "\u001b[01;34m'Mi plan de vida en el Tec'\u001b[0m/\n",
            "\u001b[01;34m'Modelacion de la matematica'\u001b[0m/\n",
            "\u001b[01;34m'Optativa de mates'\u001b[0m/\n",
            " \u001b[01;34mProgramación\u001b[0m/\n",
            " \u001b[01;34mQuímica\u001b[0m/\n",
            "\u001b[01;34m'Semana tec 1'\u001b[0m/\n",
            " \u001b[01;34mtutoreo\u001b[0m/\n"
          ]
        }
      ]
    },
    {
      "cell_type": "code",
      "source": [
        "%cd ICT"
      ],
      "metadata": {
        "colab": {
          "base_uri": "https://localhost:8080/"
        },
        "id": "Q-DCSVH4MAEl",
        "outputId": "6d44610d-b19e-4523-b3f3-c234b0e7e691"
      },
      "execution_count": 10,
      "outputs": [
        {
          "output_type": "stream",
          "name": "stdout",
          "text": [
            "/gdrive/MyDrive/UNI/ICT\n"
          ]
        }
      ]
    },
    {
      "cell_type": "code",
      "source": [
        "%cd 4to semestre"
      ],
      "metadata": {
        "colab": {
          "base_uri": "https://localhost:8080/"
        },
        "id": "YsKbz2_LMCfL",
        "outputId": "c93918a9-58b2-4c7f-8f91-2d73e7d5a219"
      },
      "execution_count": 11,
      "outputs": [
        {
          "output_type": "stream",
          "name": "stdout",
          "text": [
            "/gdrive/MyDrive/UNI/ICT/4to semestre\n"
          ]
        }
      ]
    },
    {
      "cell_type": "code",
      "source": [
        "%ls"
      ],
      "metadata": {
        "colab": {
          "base_uri": "https://localhost:8080/"
        },
        "id": "1naIGuavMGZO",
        "outputId": "825b432d-2526-44f7-f729-b1ea37f6bb24"
      },
      "execution_count": 12,
      "outputs": [
        {
          "output_type": "stream",
          "name": "stdout",
          "text": [
            "'Dialogo evidencias.gdoc'       \u001b[0m\u001b[01;34m'Semana tec El arte de la analitica'\u001b[0m/\n",
            "\u001b[01;34m'Optativa Etica y psicologia'\u001b[0m/\n"
          ]
        }
      ]
    },
    {
      "cell_type": "code",
      "source": [
        "%cd Semana tec El arte de la analitica"
      ],
      "metadata": {
        "colab": {
          "base_uri": "https://localhost:8080/"
        },
        "id": "1hG5UuRpMJ9K",
        "outputId": "2bf93de3-2a57-4d8e-f7c8-7a463eb4c044"
      },
      "execution_count": 13,
      "outputs": [
        {
          "output_type": "stream",
          "name": "stdout",
          "text": [
            "/gdrive/MyDrive/UNI/ICT/4to semestre/Semana tec El arte de la analitica\n"
          ]
        }
      ]
    },
    {
      "cell_type": "code",
      "source": [
        "!touch text_file.txt"
      ],
      "metadata": {
        "id": "cRaD_9d7MMQk"
      },
      "execution_count": 14,
      "outputs": []
    },
    {
      "cell_type": "code",
      "source": [
        "!echo \"Mi primera línea de texto\" >> text_file.txt"
      ],
      "metadata": {
        "id": "8-vMe6zzMXyV"
      },
      "execution_count": 15,
      "outputs": []
    },
    {
      "cell_type": "code",
      "source": [
        "!cp text_file.txt text_file2.txt"
      ],
      "metadata": {
        "id": "kQm5YJUAMZHW"
      },
      "execution_count": 16,
      "outputs": []
    },
    {
      "cell_type": "code",
      "source": [
        "!mv text_file2.txt another_file.txt"
      ],
      "metadata": {
        "id": "429d-RRvMeC8"
      },
      "execution_count": 17,
      "outputs": []
    },
    {
      "cell_type": "code",
      "source": [
        "from google.colab import files\n",
        "uploaded = files.upload()"
      ],
      "metadata": {
        "colab": {
          "base_uri": "https://localhost:8080/",
          "height": 38
        },
        "id": "rhXidPymMiAM",
        "outputId": "847794f6-9e4a-42b8-cea4-13e0769cc40b"
      },
      "execution_count": 18,
      "outputs": [
        {
          "output_type": "display_data",
          "data": {
            "text/plain": [
              "<IPython.core.display.HTML object>"
            ],
            "text/html": [
              "\n",
              "     <input type=\"file\" id=\"files-9def1d15-5c41-4298-a83a-bcea7aa543a4\" name=\"files[]\" multiple disabled\n",
              "        style=\"border:none\" />\n",
              "     <output id=\"result-9def1d15-5c41-4298-a83a-bcea7aa543a4\">\n",
              "      Upload widget is only available when the cell has been executed in the\n",
              "      current browser session. Please rerun this cell to enable.\n",
              "      </output>\n",
              "      <script>// Copyright 2017 Google LLC\n",
              "//\n",
              "// Licensed under the Apache License, Version 2.0 (the \"License\");\n",
              "// you may not use this file except in compliance with the License.\n",
              "// You may obtain a copy of the License at\n",
              "//\n",
              "//      http://www.apache.org/licenses/LICENSE-2.0\n",
              "//\n",
              "// Unless required by applicable law or agreed to in writing, software\n",
              "// distributed under the License is distributed on an \"AS IS\" BASIS,\n",
              "// WITHOUT WARRANTIES OR CONDITIONS OF ANY KIND, either express or implied.\n",
              "// See the License for the specific language governing permissions and\n",
              "// limitations under the License.\n",
              "\n",
              "/**\n",
              " * @fileoverview Helpers for google.colab Python module.\n",
              " */\n",
              "(function(scope) {\n",
              "function span(text, styleAttributes = {}) {\n",
              "  const element = document.createElement('span');\n",
              "  element.textContent = text;\n",
              "  for (const key of Object.keys(styleAttributes)) {\n",
              "    element.style[key] = styleAttributes[key];\n",
              "  }\n",
              "  return element;\n",
              "}\n",
              "\n",
              "// Max number of bytes which will be uploaded at a time.\n",
              "const MAX_PAYLOAD_SIZE = 100 * 1024;\n",
              "\n",
              "function _uploadFiles(inputId, outputId) {\n",
              "  const steps = uploadFilesStep(inputId, outputId);\n",
              "  const outputElement = document.getElementById(outputId);\n",
              "  // Cache steps on the outputElement to make it available for the next call\n",
              "  // to uploadFilesContinue from Python.\n",
              "  outputElement.steps = steps;\n",
              "\n",
              "  return _uploadFilesContinue(outputId);\n",
              "}\n",
              "\n",
              "// This is roughly an async generator (not supported in the browser yet),\n",
              "// where there are multiple asynchronous steps and the Python side is going\n",
              "// to poll for completion of each step.\n",
              "// This uses a Promise to block the python side on completion of each step,\n",
              "// then passes the result of the previous step as the input to the next step.\n",
              "function _uploadFilesContinue(outputId) {\n",
              "  const outputElement = document.getElementById(outputId);\n",
              "  const steps = outputElement.steps;\n",
              "\n",
              "  const next = steps.next(outputElement.lastPromiseValue);\n",
              "  return Promise.resolve(next.value.promise).then((value) => {\n",
              "    // Cache the last promise value to make it available to the next\n",
              "    // step of the generator.\n",
              "    outputElement.lastPromiseValue = value;\n",
              "    return next.value.response;\n",
              "  });\n",
              "}\n",
              "\n",
              "/**\n",
              " * Generator function which is called between each async step of the upload\n",
              " * process.\n",
              " * @param {string} inputId Element ID of the input file picker element.\n",
              " * @param {string} outputId Element ID of the output display.\n",
              " * @return {!Iterable<!Object>} Iterable of next steps.\n",
              " */\n",
              "function* uploadFilesStep(inputId, outputId) {\n",
              "  const inputElement = document.getElementById(inputId);\n",
              "  inputElement.disabled = false;\n",
              "\n",
              "  const outputElement = document.getElementById(outputId);\n",
              "  outputElement.innerHTML = '';\n",
              "\n",
              "  const pickedPromise = new Promise((resolve) => {\n",
              "    inputElement.addEventListener('change', (e) => {\n",
              "      resolve(e.target.files);\n",
              "    });\n",
              "  });\n",
              "\n",
              "  const cancel = document.createElement('button');\n",
              "  inputElement.parentElement.appendChild(cancel);\n",
              "  cancel.textContent = 'Cancel upload';\n",
              "  const cancelPromise = new Promise((resolve) => {\n",
              "    cancel.onclick = () => {\n",
              "      resolve(null);\n",
              "    };\n",
              "  });\n",
              "\n",
              "  // Wait for the user to pick the files.\n",
              "  const files = yield {\n",
              "    promise: Promise.race([pickedPromise, cancelPromise]),\n",
              "    response: {\n",
              "      action: 'starting',\n",
              "    }\n",
              "  };\n",
              "\n",
              "  cancel.remove();\n",
              "\n",
              "  // Disable the input element since further picks are not allowed.\n",
              "  inputElement.disabled = true;\n",
              "\n",
              "  if (!files) {\n",
              "    return {\n",
              "      response: {\n",
              "        action: 'complete',\n",
              "      }\n",
              "    };\n",
              "  }\n",
              "\n",
              "  for (const file of files) {\n",
              "    const li = document.createElement('li');\n",
              "    li.append(span(file.name, {fontWeight: 'bold'}));\n",
              "    li.append(span(\n",
              "        `(${file.type || 'n/a'}) - ${file.size} bytes, ` +\n",
              "        `last modified: ${\n",
              "            file.lastModifiedDate ? file.lastModifiedDate.toLocaleDateString() :\n",
              "                                    'n/a'} - `));\n",
              "    const percent = span('0% done');\n",
              "    li.appendChild(percent);\n",
              "\n",
              "    outputElement.appendChild(li);\n",
              "\n",
              "    const fileDataPromise = new Promise((resolve) => {\n",
              "      const reader = new FileReader();\n",
              "      reader.onload = (e) => {\n",
              "        resolve(e.target.result);\n",
              "      };\n",
              "      reader.readAsArrayBuffer(file);\n",
              "    });\n",
              "    // Wait for the data to be ready.\n",
              "    let fileData = yield {\n",
              "      promise: fileDataPromise,\n",
              "      response: {\n",
              "        action: 'continue',\n",
              "      }\n",
              "    };\n",
              "\n",
              "    // Use a chunked sending to avoid message size limits. See b/62115660.\n",
              "    let position = 0;\n",
              "    do {\n",
              "      const length = Math.min(fileData.byteLength - position, MAX_PAYLOAD_SIZE);\n",
              "      const chunk = new Uint8Array(fileData, position, length);\n",
              "      position += length;\n",
              "\n",
              "      const base64 = btoa(String.fromCharCode.apply(null, chunk));\n",
              "      yield {\n",
              "        response: {\n",
              "          action: 'append',\n",
              "          file: file.name,\n",
              "          data: base64,\n",
              "        },\n",
              "      };\n",
              "\n",
              "      let percentDone = fileData.byteLength === 0 ?\n",
              "          100 :\n",
              "          Math.round((position / fileData.byteLength) * 100);\n",
              "      percent.textContent = `${percentDone}% done`;\n",
              "\n",
              "    } while (position < fileData.byteLength);\n",
              "  }\n",
              "\n",
              "  // All done.\n",
              "  yield {\n",
              "    response: {\n",
              "      action: 'complete',\n",
              "    }\n",
              "  };\n",
              "}\n",
              "\n",
              "scope.google = scope.google || {};\n",
              "scope.google.colab = scope.google.colab || {};\n",
              "scope.google.colab._files = {\n",
              "  _uploadFiles,\n",
              "  _uploadFilesContinue,\n",
              "};\n",
              "})(self);\n",
              "</script> "
            ]
          },
          "metadata": {}
        }
      ]
    }
  ]
}